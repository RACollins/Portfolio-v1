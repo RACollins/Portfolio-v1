{
 "cells": [
  {
   "cell_type": "markdown",
   "metadata": {},
   "source": [
    "# Imports"
   ]
  },
  {
   "cell_type": "code",
   "execution_count": 1,
   "metadata": {},
   "outputs": [
    {
     "name": "stderr",
     "output_type": "stream",
     "text": [
      "/Users/richardcollins/portfolio-v1/.venv/lib/python3.11/site-packages/tqdm/auto.py:21: TqdmWarning: IProgress not found. Please update jupyter and ipywidgets. See https://ipywidgets.readthedocs.io/en/stable/user_install.html\n",
      "  from .autonotebook import tqdm as notebook_tqdm\n",
      "[nltk_data] Downloading package punkt_tab to\n",
      "[nltk_data]     /Users/richardcollins/nltk_data...\n",
      "[nltk_data]   Package punkt_tab is already up-to-date!\n"
     ]
    }
   ],
   "source": [
    "import os\n",
    "import sys\n",
    "import numpy as np\n",
    "\n",
    "sys.path.append(\"..\")  # Add parent directory to Python path\n",
    "\n",
    "from services.rag import RagService, RagConfig, Document\n",
    "from services.chat import ChatService, ChatConfig"
   ]
  },
  {
   "cell_type": "markdown",
   "metadata": {},
   "source": [
    "# Constants"
   ]
  },
  {
   "cell_type": "code",
   "execution_count": 2,
   "metadata": {},
   "outputs": [],
   "source": [
    "cwd = os.getcwd()\n",
    "abs_base_path = os.path.dirname(os.path.abspath(\"__file__\"))"
   ]
  },
  {
   "cell_type": "markdown",
   "metadata": {},
   "source": [
    "# Code"
   ]
  },
  {
   "cell_type": "markdown",
   "metadata": {},
   "source": [
    "## RagService"
   ]
  },
  {
   "cell_type": "markdown",
   "metadata": {},
   "source": [
    "Let's just try to initiate each step of the RAG service and check the output."
   ]
  },
  {
   "cell_type": "code",
   "execution_count": 3,
   "metadata": {},
   "outputs": [],
   "source": [
    "rag_service = RagService()"
   ]
  },
  {
   "cell_type": "markdown",
   "metadata": {},
   "source": [
    "### Loading Markdown"
   ]
  },
  {
   "cell_type": "code",
   "execution_count": 4,
   "metadata": {},
   "outputs": [
    {
     "name": "stdout",
     "output_type": "stream",
     "text": [
      "title: New thought to test out my portfolio website date: 2024-11-11 00:00:00+00:00 draft: False\n",
      "\n",
      "So, this is where I'm going to write my thoughts. I'm going to write about my experiences and what I've learned. I'm going to write about my projects and what I'm working on. I'm going to write about my life and what I'm thinking. This is a 2nd-level header I can write some more stuff here. And this is a 3rd-level header. I can write even more stuff here! I'll write a little bit more in this section. What about some bullet points? I can write bullet points I can write more bullet points I can write even more bullet points With nesting? I can write bullet points I can write more bullet points I can write even more bullet points And what about a code block? python\n",
      "print(\"Hello, world!\") Let's white a more complicated one: python\n",
      "def print_hello():\n",
      "    print(\"Hello, world!\") Now we're cooking with gas!\n"
     ]
    }
   ],
   "source": [
    "print(rag_service.load_markdown(abs_base_path + \"/../thoughts/recent-thought.md\"))"
   ]
  },
  {
   "cell_type": "markdown",
   "metadata": {},
   "source": [
    "### Loading Docs"
   ]
  },
  {
   "cell_type": "code",
   "execution_count": 5,
   "metadata": {},
   "outputs": [
    {
     "name": "stdout",
     "output_type": "stream",
     "text": [
      "/Users/richardcollins/portfolio-v1/services/../cv\n",
      "/Users/richardcollins/portfolio-v1/services/../thoughts\n",
      "{'/Users/richardcollins/portfolio-v1/services/../cv/richard_collins.md': 'name: Richard Collins title: Senior Data Scientist email: placeholder@email.com location: Tokyo, Japan\\n\\nRichard Collins Senior Data Scientist Professional Summary With over eight years of experience as a data scientist, I specialize in developing sophisticated forecasting solutions using machine learning and artificial intelligence. My expertise lies in transforming complex data into actionable insights that drive business decisions and operational efficiency. I have particular expertise in weather forecasting and risk mitigation for transport and logistics sectors. Core Competencies Machine Learning & AI Statistical Analysis Data Visualization Predictive Modeling Business Intelligence Weather Forecasting Risk Analysis Python Programming Big Data Technologies Professional Experience Senior Data Scientist | Current Company 2021 - Present - Lead development of weather-related disruption prediction models for transport and logistics\\n- Design and implement routing optimization algorithms incorporating weather risk factors\\n- Manage end-to-end machine learning projects from conception to deployment\\n- Collaborate with cross-functional teams to integrate predictive solutions into operations Data Scientist | Previous Company 2018 - 2021 - Developed and maintained sales forecasting models\\n- Created business intelligence dashboards for executive decision-making\\n- Led a team of 3 junior data scientists\\n- Reduced forecast error by 35% through advanced modeling techniques Junior Data Scientist | Early Career Company 2016 - 2018 - Conducted statistical analysis of business metrics\\n- Built automated reporting systems\\n- Assisted in developing predictive maintenance models Notable Projects Manimflow Created an innovative visualization framework Implemented complex mathematical animations Open-source contribution with active community engagement Global Economics Dashboard Developed interactive data visualization platform Integrated multiple data sources for comprehensive economic analysis Implemented real-time data updates Education Master\\'s Degree in Data Analytics University of Warwick | 2014 - 2016 - Thesis: \"Advanced Forecasting Methods in Operational Planning\"\\n- GPA: 3.9/4.0 Bachelor\\'s Degree in Mathematics University Name | 2010 - 2014 - Minor in Computer Science\\n- Graduated with Honors Technical Skills Programming Languages : Python, R, SQL ML Frameworks : TensorFlow, PyTorch, scikit-learn Data Processing : Pandas, NumPy, Spark Visualization : Matplotlib, Seaborn, D3.js Cloud Platforms : AWS, GCP Version Control : Git Database Systems : PostgreSQL, MongoDB Certifications AWS Certified Machine Learning Specialist Google Professional Data Engineer Deep Learning Specialization - Coursera Languages English (Native) [Additional Language] (Professional) [Additional Language] (Conversational) Publications & Presentations \"Machine Learning Applications in Weather Risk Management\" - Conference 2023 \"Optimizing Transport Networks Using Predictive Analytics\" - Journal 2022', '/Users/richardcollins/portfolio-v1/services/../thoughts/weather-clustering.md': 'title: Clustering Weather Patterns: A Breezy Guide to PCA and K-means in Python date: 2024-11-28 00:00:00+00:00 draft: False\\n\\nHey there, weather enthusiasts and data nerds! 🌦️👩\\u200d💻 Ever wondered how meteorologists group similar weather patterns? Well, grab your umbrellas and laptops, because we\\'re about to dive into the world of Principal Component Analysis (PCA) and K-means clustering to sort out those pesky pressure systems! Setting the Scene Imagine you\\'re staring at a massive array of air pressure data, stretching across time and space like a meteorological epic. It\\'s more overwhelming than trying to predict British weather! 🇬🇧☔ Fear not, for we shall tame this data beast with the power of Python! Step 1: Importing our Trusty Tools First things first, let\\'s call in the cavalry: python\\nimport numpy as np\\nimport pandas as pd\\nfrom sklearn.decomposition import PCA\\nfrom sklearn.cluster import KMeans\\nimport matplotlib.pyplot as plt Step 2: PCA - Pressure Compression Algorithm (okay, not really, but it\\'s fun to pretend) PCA is like a weather compressor. It takes our high-dimensional pressure data and squeezes it down to size, keeping the juicy bits intact. ```python Assume we have our pressure data in a numpy array called \\'pressure_data\\' pca = PCA(n_components=2)  # Let\\'s reduce to 2D for simplicity\\nreduced_data = pca.fit_transform(pressure_data)\\n```\\nVoila! We\\'ve just taken our complex pressure systems and flattened them onto a 2D map. It\\'s like going from a 3D weather model to a weather app on your phone – less detailed, but much easier to swipe through! Step 3: K-means - The Weather Groupie Now that we\\'ve simplified our data, it\\'s time to group similar patterns. Enter K-means, the algorithm that\\'s always trying to fit in: python\\nkmeans = KMeans(n_clusters=5)  # Let\\'s assume 5 weather pattern types\\nclusters = kmeans.fit_predict(reduced_data) Just like that, we\\'ve sorted our weather patterns into five groups. It\\'s like organizing your wardrobe, but instead of \"casual Friday\" and \"beach vacation,\" we have \"incoming cold front\" and \"annoyingly persistent high pressure system.\" Step 4: Visualizing Our Handiwork What\\'s the point of all this if we can\\'t see pretty pictures? Let\\'s plot our clusters: python\\nplt.figure(figsize=(10, 8))\\nscatter = plt.scatter(reduced_data[:, 0], reduced_data[:, 1], c=clusters, cmap=\\'viridis\\')\\nplt.colorbar(scatter)\\nplt.title(\"Weather Pattern Clusters\")\\nplt.xlabel(\"First Principal Component\")\\nplt.ylabel(\"Second Principal Component\")\\nplt.show() And there you have it! A beautiful constellation of weather patterns, each color representing a different cluster. It\\'s like a disco ball for meteorologists! Wrapping Up We\\'ve taken a whirlwind tour through clustering weather patterns using PCA and K-means. We reduced our data faster than a collapsing low-pressure system, and grouped it more efficiently than a team of weather forecasters on deadline. Remember, while this method is powerful, it\\'s not perfect. Much like weather forecasts themselves, your mileage may vary. But hey, that\\'s part of the fun of data science and meteorology – there\\'s always a chance of unexpected showers! So next time you\\'re looking at a weather map, you can nod sagely and say, \"Ah yes, I see we\\'re in a classic Cluster 3 situation.\" Just don\\'t be surprised if people look at you funny – they\\'re probably just blown away by your knowledge! 🌪️📊', '/Users/richardcollins/portfolio-v1/services/../thoughts/recent-thought.md': 'title: New thought to test out my portfolio website date: 2024-11-11 00:00:00+00:00 draft: False\\n\\nSo, this is where I\\'m going to write my thoughts. I\\'m going to write about my experiences and what I\\'ve learned. I\\'m going to write about my projects and what I\\'m working on. I\\'m going to write about my life and what I\\'m thinking. This is a 2nd-level header I can write some more stuff here. And this is a 3rd-level header. I can write even more stuff here! I\\'ll write a little bit more in this section. What about some bullet points? I can write bullet points I can write more bullet points I can write even more bullet points With nesting? I can write bullet points I can write more bullet points I can write even more bullet points And what about a code block? python\\nprint(\"Hello, world!\") Let\\'s white a more complicated one: python\\ndef print_hello():\\n    print(\"Hello, world!\") Now we\\'re cooking with gas!'}\n"
     ]
    },
    {
     "data": {
      "text/plain": [
       "{'/Users/richardcollins/portfolio-v1/services/../cv/richard_collins.md': 'name: Richard Collins title: Senior Data Scientist email: placeholder@email.com location: Tokyo, Japan\\n\\nRichard Collins Senior Data Scientist Professional Summary With over eight years of experience as a data scientist, I specialize in developing sophisticated forecasting solutions using machine learning and artificial intelligence. My expertise lies in transforming complex data into actionable insights that drive business decisions and operational efficiency. I have particular expertise in weather forecasting and risk mitigation for transport and logistics sectors. Core Competencies Machine Learning & AI Statistical Analysis Data Visualization Predictive Modeling Business Intelligence Weather Forecasting Risk Analysis Python Programming Big Data Technologies Professional Experience Senior Data Scientist | Current Company 2021 - Present - Lead development of weather-related disruption prediction models for transport and logistics\\n- Design and implement routing optimization algorithms incorporating weather risk factors\\n- Manage end-to-end machine learning projects from conception to deployment\\n- Collaborate with cross-functional teams to integrate predictive solutions into operations Data Scientist | Previous Company 2018 - 2021 - Developed and maintained sales forecasting models\\n- Created business intelligence dashboards for executive decision-making\\n- Led a team of 3 junior data scientists\\n- Reduced forecast error by 35% through advanced modeling techniques Junior Data Scientist | Early Career Company 2016 - 2018 - Conducted statistical analysis of business metrics\\n- Built automated reporting systems\\n- Assisted in developing predictive maintenance models Notable Projects Manimflow Created an innovative visualization framework Implemented complex mathematical animations Open-source contribution with active community engagement Global Economics Dashboard Developed interactive data visualization platform Integrated multiple data sources for comprehensive economic analysis Implemented real-time data updates Education Master\\'s Degree in Data Analytics University of Warwick | 2014 - 2016 - Thesis: \"Advanced Forecasting Methods in Operational Planning\"\\n- GPA: 3.9/4.0 Bachelor\\'s Degree in Mathematics University Name | 2010 - 2014 - Minor in Computer Science\\n- Graduated with Honors Technical Skills Programming Languages : Python, R, SQL ML Frameworks : TensorFlow, PyTorch, scikit-learn Data Processing : Pandas, NumPy, Spark Visualization : Matplotlib, Seaborn, D3.js Cloud Platforms : AWS, GCP Version Control : Git Database Systems : PostgreSQL, MongoDB Certifications AWS Certified Machine Learning Specialist Google Professional Data Engineer Deep Learning Specialization - Coursera Languages English (Native) [Additional Language] (Professional) [Additional Language] (Conversational) Publications & Presentations \"Machine Learning Applications in Weather Risk Management\" - Conference 2023 \"Optimizing Transport Networks Using Predictive Analytics\" - Journal 2022',\n",
       " '/Users/richardcollins/portfolio-v1/services/../thoughts/weather-clustering.md': 'title: Clustering Weather Patterns: A Breezy Guide to PCA and K-means in Python date: 2024-11-28 00:00:00+00:00 draft: False\\n\\nHey there, weather enthusiasts and data nerds! 🌦️👩\\u200d💻 Ever wondered how meteorologists group similar weather patterns? Well, grab your umbrellas and laptops, because we\\'re about to dive into the world of Principal Component Analysis (PCA) and K-means clustering to sort out those pesky pressure systems! Setting the Scene Imagine you\\'re staring at a massive array of air pressure data, stretching across time and space like a meteorological epic. It\\'s more overwhelming than trying to predict British weather! 🇬🇧☔ Fear not, for we shall tame this data beast with the power of Python! Step 1: Importing our Trusty Tools First things first, let\\'s call in the cavalry: python\\nimport numpy as np\\nimport pandas as pd\\nfrom sklearn.decomposition import PCA\\nfrom sklearn.cluster import KMeans\\nimport matplotlib.pyplot as plt Step 2: PCA - Pressure Compression Algorithm (okay, not really, but it\\'s fun to pretend) PCA is like a weather compressor. It takes our high-dimensional pressure data and squeezes it down to size, keeping the juicy bits intact. ```python Assume we have our pressure data in a numpy array called \\'pressure_data\\' pca = PCA(n_components=2)  # Let\\'s reduce to 2D for simplicity\\nreduced_data = pca.fit_transform(pressure_data)\\n```\\nVoila! We\\'ve just taken our complex pressure systems and flattened them onto a 2D map. It\\'s like going from a 3D weather model to a weather app on your phone – less detailed, but much easier to swipe through! Step 3: K-means - The Weather Groupie Now that we\\'ve simplified our data, it\\'s time to group similar patterns. Enter K-means, the algorithm that\\'s always trying to fit in: python\\nkmeans = KMeans(n_clusters=5)  # Let\\'s assume 5 weather pattern types\\nclusters = kmeans.fit_predict(reduced_data) Just like that, we\\'ve sorted our weather patterns into five groups. It\\'s like organizing your wardrobe, but instead of \"casual Friday\" and \"beach vacation,\" we have \"incoming cold front\" and \"annoyingly persistent high pressure system.\" Step 4: Visualizing Our Handiwork What\\'s the point of all this if we can\\'t see pretty pictures? Let\\'s plot our clusters: python\\nplt.figure(figsize=(10, 8))\\nscatter = plt.scatter(reduced_data[:, 0], reduced_data[:, 1], c=clusters, cmap=\\'viridis\\')\\nplt.colorbar(scatter)\\nplt.title(\"Weather Pattern Clusters\")\\nplt.xlabel(\"First Principal Component\")\\nplt.ylabel(\"Second Principal Component\")\\nplt.show() And there you have it! A beautiful constellation of weather patterns, each color representing a different cluster. It\\'s like a disco ball for meteorologists! Wrapping Up We\\'ve taken a whirlwind tour through clustering weather patterns using PCA and K-means. We reduced our data faster than a collapsing low-pressure system, and grouped it more efficiently than a team of weather forecasters on deadline. Remember, while this method is powerful, it\\'s not perfect. Much like weather forecasts themselves, your mileage may vary. But hey, that\\'s part of the fun of data science and meteorology – there\\'s always a chance of unexpected showers! So next time you\\'re looking at a weather map, you can nod sagely and say, \"Ah yes, I see we\\'re in a classic Cluster 3 situation.\" Just don\\'t be surprised if people look at you funny – they\\'re probably just blown away by your knowledge! 🌪️📊',\n",
       " '/Users/richardcollins/portfolio-v1/services/../thoughts/recent-thought.md': 'title: New thought to test out my portfolio website date: 2024-11-11 00:00:00+00:00 draft: False\\n\\nSo, this is where I\\'m going to write my thoughts. I\\'m going to write about my experiences and what I\\'ve learned. I\\'m going to write about my projects and what I\\'m working on. I\\'m going to write about my life and what I\\'m thinking. This is a 2nd-level header I can write some more stuff here. And this is a 3rd-level header. I can write even more stuff here! I\\'ll write a little bit more in this section. What about some bullet points? I can write bullet points I can write more bullet points I can write even more bullet points With nesting? I can write bullet points I can write more bullet points I can write even more bullet points And what about a code block? python\\nprint(\"Hello, world!\") Let\\'s white a more complicated one: python\\ndef print_hello():\\n    print(\"Hello, world!\") Now we\\'re cooking with gas!'}"
      ]
     },
     "execution_count": 5,
     "metadata": {},
     "output_type": "execute_result"
    }
   ],
   "source": [
    "print(rag_service.load_docs())\n",
    "rag_service.documents"
   ]
  },
  {
   "cell_type": "markdown",
   "metadata": {},
   "source": [
    "### Create chunks"
   ]
  },
  {
   "cell_type": "code",
   "execution_count": 15,
   "metadata": {},
   "outputs": [
    {
     "data": {
      "text/plain": [
       "[Document(content='name: Richard Collins title: Senior Data Scientist email: placeholder@email.com location: Tokyo, Japan\\n\\nRichard Collins Senior Data Scientist Professional Summary With over eight years of experience as a data scientist, I specialize in developing sophisticated forecasting solutions using machine learning and artificial intelligence. My expertise lies in transforming complex data into actionable insights that drive business decisions and operational efficiency.', metadata={'source': '/Users/richardcollins/portfolio-v1/services/../cv/richard_collins.md', 'type': 'markdown'}, embeddings=None, id=None),\n",
       " Document(content='I have particular expertise in weather forecasting and risk mitigation for transport and logistics sectors.', metadata={'source': '/Users/richardcollins/portfolio-v1/services/../cv/richard_collins.md', 'type': 'markdown'}, embeddings=None, id=None),\n",
       " Document(content='Core Competencies Machine Learning & AI Statistical Analysis Data Visualization Predictive Modeling Business Intelligence Weather Forecasting Risk Analysis Python Programming Big Data Technologies Professional Experience Senior Data Scientist | Current Company 2021 - Present - Lead development of weather-related disruption prediction models for transport and logistics\\n- Design and implement routing optimization algorithms incorporating weather risk factors\\n- Manage end-to-end machine learning projects from conception to deployment\\n- Collaborate with cross-functional teams to integrate predictive solutions into operations Data Scientist | Previous Company 2018 - 2021 - Developed and maintained sales forecasting models\\n- Created business intelligence dashboards for executive decision-making\\n- Led a team of 3 junior data scientists\\n- Reduced forecast error by 35% through advanced modeling techniques Junior Data Scientist | Early Career Company 2016 - 2018 - Conducted statistical analysis of business metrics\\n- Built automated reporting systems\\n- Assisted in developing predictive maintenance models Notable Projects Manimflow Created an innovative visualization framework Implemented complex mathematical animations Open-source contribution with active community engagement Global Economics Dashboard Developed interactive data visualization platform Integrated multiple data sources for comprehensive economic analysis Implemented real-time data updates Education Master\\'s Degree in Data Analytics University of Warwick | 2014 - 2016 - Thesis: \"Advanced Forecasting Methods in Operational Planning\"\\n- GPA: 3.9/4.0 Bachelor\\'s Degree in Mathematics University Name | 2010 - 2014 - Minor in Computer Science\\n- Graduated with Honors Technical Skills Programming Languages : Python, R, SQL ML Frameworks : TensorFlow, PyTorch, scikit-learn Data Processing : Pandas, NumPy, Spark Visualization : Matplotlib, Seaborn, D3.js Cloud Platforms : AWS, GCP Version Control : Git Database Systems : PostgreSQL, MongoDB Certifications AWS Certified Machine Learning Specialist Google Professional Data Engineer Deep Learning Specialization - Coursera Languages English (Native) [Additional Language] (Professional) [Additional Language] (Conversational) Publications & Presentations \"Machine Learning Applications in Weather Risk Management\" - Conference 2023 \"Optimizing Transport Networks Using Predictive Analytics\" - Journal 2022', metadata={'source': '/Users/richardcollins/portfolio-v1/services/../cv/richard_collins.md', 'type': 'markdown'}, embeddings=None, id=None)]"
      ]
     },
     "execution_count": 15,
     "metadata": {},
     "output_type": "execute_result"
    }
   ],
   "source": [
    "file_path = \"/Users/richardcollins/portfolio-v1/services/../cv/richard_collins.md\"\n",
    "content = rag_service.documents[file_path]\n",
    "metadata = {\n",
    "    \"source\": str(file_path),\n",
    "    \"type\": \"markdown\" if file_path.endswith(\".md\") else \"txt\",\n",
    "}\n",
    "doc_chunks = rag_service.create_chunks(content, metadata)\n",
    "doc_chunks\n"
   ]
  },
  {
   "cell_type": "markdown",
   "metadata": {},
   "source": [
    "All seems to work fine. The next step is to parse docs, which includes the above methods, aswell as computing and saving embeddings. I don't need to do this if the rag_service is initialised with the vector store already created. So, I'll skip this for now."
   ]
  },
  {
   "cell_type": "markdown",
   "metadata": {},
   "source": [
    "### Query embeddings"
   ]
  },
  {
   "cell_type": "code",
   "execution_count": 8,
   "metadata": {},
   "outputs": [
    {
     "name": "stdout",
     "output_type": "stream",
     "text": [
      "[[1.3557386 1.4403323 1.5598363]]\n",
      "[[2 8 1]]\n",
      "0.4244953082195524\n",
      "0.4097802592947259\n",
      "0.39064998505364507\n",
      "[(Document(content='Core Competencies Machine Learning & AI Statistical Analysis Data Visualization Predictive Modeling Business Intelligence Weather Forecasting Risk Analysis Python Programming Big Data Technologies Professional Experience Senior Data Scientist | Current Company 2021 - Present - Lead development of weather-related disruption prediction models for transport and logistics\\n- Design and implement routing optimization algorithms incorporating weather risk factors\\n- Manage end-to-end machine learning projects from conception to deployment\\n- Collaborate with cross-functional teams to integrate predictive solutions into operations Data Scientist | Previous Company 2018 - 2021 - Developed and maintained sales forecasting models\\n- Created business intelligence dashboards for executive decision-making\\n- Led a team of 3 junior data scientists\\n- Reduced forecast error by 35% through advanced modeling techniques Junior Data Scientist | Early Career Company 2016 - 2018 - Conducted statistical analysis of business metrics\\n- Built automated reporting systems\\n- Assisted in developing predictive maintenance models Notable Projects Manimflow Created an innovative visualization framework Implemented complex mathematical animations Open-source contribution with active community engagement Global Economics Dashboard Developed interactive data visualization platform Integrated multiple data sources for comprehensive economic analysis Implemented real-time data updates Education Master\\'s Degree in Data Analytics University of Warwick | 2014 - 2016 - Thesis: \"Advanced Forecasting Methods in Operational Planning\"\\n- GPA: 3.9/4.0 Bachelor\\'s Degree in Mathematics University Name | 2010 - 2014 - Minor in Computer Science\\n- Graduated with Honors Technical Skills Programming Languages : Python, R, SQL ML Frameworks : TensorFlow, PyTorch, scikit-learn Data Processing : Pandas, NumPy, Spark Visualization : Matplotlib, Seaborn, D3.js Cloud Platforms : AWS, GCP Version Control : Git Database Systems : PostgreSQL, MongoDB Certifications AWS Certified Machine Learning Specialist Google Professional Data Engineer Deep Learning Specialization - Coursera Languages English (Native) [Additional Language] (Professional) [Additional Language] (Conversational) Publications & Presentations \"Machine Learning Applications in Weather Risk Management\" - Conference 2023 \"Optimizing Transport Networks Using Predictive Analytics\" - Journal 2022', metadata={'source': '/Users/richardcollins/portfolio-v1/services/../cv/richard_collins.md', 'type': 'markdown'}, embeddings=None, id=2), 0.4244953082195524), (Document(content='It\\'s like organizing your wardrobe, but instead of \"casual Friday\" and \"beach vacation,\" we have \"incoming cold front\" and \"annoyingly persistent high pressure system.\" Step 4: Visualizing Our Handiwork What\\'s the point of all this if we can\\'t see pretty pictures?', metadata={'source': '/Users/richardcollins/portfolio-v1/services/../thoughts/weather-clustering.md', 'type': 'markdown'}, embeddings=None, id=8), 0.4097802592947259)]\n"
     ]
    },
    {
     "data": {
      "text/plain": [
       "'[Source: /Users/richardcollins/portfolio-v1/services/../cv/richard_collins.md] (Similarity: 0.42)\\nCore Competencies Machine Learning & AI Statistical Analysis Data Visualization Predictive Modeling Business Intelligence Weather Forecasting Risk Analysis Python Programming Big Data Technologies Professional Experience Senior Data Scientist | Current Company 2021 - Present - Lead development of weather-related disruption prediction models for transport and logistics\\n- Design and implement routing optimization algorithms incorporating weather risk factors\\n- Manage end-to-end machine learning projects from conception to deployment\\n- Collaborate with cross-functional teams to integrate predictive solutions into operations Data Scientist | Previous Company 2018 - 2021 - Developed and maintained sales forecasting models\\n- Created business intelligence dashboards for executive decision-making\\n- Led a team of 3 junior data scientists\\n- Reduced forecast error by 35% through advanced modeling techniques Junior Data Scientist | Early Career Company 2016 - 2018 - Conducted statistical analysis of business metrics\\n- Built automated reporting systems\\n- Assisted in developing predictive maintenance models Notable Projects Manimflow Created an innovative visualization framework Implemented complex mathematical animations Open-source contribution with active community engagement Global Economics Dashboard Developed interactive data visualization platform Integrated multiple data sources for comprehensive economic analysis Implemented real-time data updates Education Master\\'s Degree in Data Analytics University of Warwick | 2014 - 2016 - Thesis: \"Advanced Forecasting Methods in Operational Planning\"\\n- GPA: 3.9/4.0 Bachelor\\'s Degree in Mathematics University Name | 2010 - 2014 - Minor in Computer Science\\n- Graduated with Honors Technical Skills Programming Languages : Python, R, SQL ML Frameworks : TensorFlow, PyTorch, scikit-learn Data Processing : Pandas, NumPy, Spark Visualization : Matplotlib, Seaborn, D3.js Cloud Platforms : AWS, GCP Version Control : Git Database Systems : PostgreSQL, MongoDB Certifications AWS Certified Machine Learning Specialist Google Professional Data Engineer Deep Learning Specialization - Coursera Languages English (Native) [Additional Language] (Professional) [Additional Language] (Conversational) Publications & Presentations \"Machine Learning Applications in Weather Risk Management\" - Conference 2023 \"Optimizing Transport Networks Using Predictive Analytics\" - Journal 2022\\n\\n[Source: /Users/richardcollins/portfolio-v1/services/../thoughts/weather-clustering.md] (Similarity: 0.41)\\nIt\\'s like organizing your wardrobe, but instead of \"casual Friday\" and \"beach vacation,\" we have \"incoming cold front\" and \"annoyingly persistent high pressure system.\" Step 4: Visualizing Our Handiwork What\\'s the point of all this if we can\\'t see pretty pictures?'"
      ]
     },
     "execution_count": 8,
     "metadata": {},
     "output_type": "execute_result"
    }
   ],
   "source": [
    "query = \"Tell me the details of the Manimflow project.\"\n",
    "query_embedding = rag_service.embedding_model.encode([query])[0]\n",
    "distances, indices = rag_service.index.search(\n",
    "    np.array([query_embedding], dtype=np.float32), rag_service.config.top_k\n",
    ")\n",
    "print(distances)\n",
    "print(indices)\n",
    "\n",
    "relevant_chunks = []\n",
    "for dist, idx in zip(distances[0], indices[0]):\n",
    "    # Convert L2 distance to similarity score (inverse relationship)\n",
    "    similarity = 1 / (1 + dist)\n",
    "    print(similarity)\n",
    "    if similarity >= rag_service.config.similarity_threshold:\n",
    "        chunk = next((c for c in rag_service.chunks if c.id == idx), None)\n",
    "        if chunk:\n",
    "            relevant_chunks.append((chunk, similarity))\n",
    "print(relevant_chunks)\n",
    "\n",
    "context_parts = []\n",
    "for chunk, similarity in relevant_chunks:\n",
    "    source = chunk.metadata.get(\"source\", \"unknown\")\n",
    "    context_parts.append(\n",
    "        f\"[Source: {source}] (Similarity: {similarity:.2f})\\n{chunk.content}\"\n",
    "    )\n",
    "\n",
    "\"\\n\\n\".join(context_parts)"
   ]
  },
  {
   "cell_type": "code",
   "execution_count": 9,
   "metadata": {},
   "outputs": [
    {
     "data": {
      "text/plain": [
       "'[Source: /Users/richardcollins/portfolio-v1/services/../cv/richard_collins.md] (Similarity: 0.42)\\nCore Competencies Machine Learning & AI Statistical Analysis Data Visualization Predictive Modeling Business Intelligence Weather Forecasting Risk Analysis Python Programming Big Data Technologies Professional Experience Senior Data Scientist | Current Company 2021 - Present - Lead development of weather-related disruption prediction models for transport and logistics\\n- Design and implement routing optimization algorithms incorporating weather risk factors\\n- Manage end-to-end machine learning projects from conception to deployment\\n- Collaborate with cross-functional teams to integrate predictive solutions into operations Data Scientist | Previous Company 2018 - 2021 - Developed and maintained sales forecasting models\\n- Created business intelligence dashboards for executive decision-making\\n- Led a team of 3 junior data scientists\\n- Reduced forecast error by 35% through advanced modeling techniques Junior Data Scientist | Early Career Company 2016 - 2018 - Conducted statistical analysis of business metrics\\n- Built automated reporting systems\\n- Assisted in developing predictive maintenance models Notable Projects Manimflow Created an innovative visualization framework Implemented complex mathematical animations Open-source contribution with active community engagement Global Economics Dashboard Developed interactive data visualization platform Integrated multiple data sources for comprehensive economic analysis Implemented real-time data updates Education Master\\'s Degree in Data Analytics University of Warwick | 2014 - 2016 - Thesis: \"Advanced Forecasting Methods in Operational Planning\"\\n- GPA: 3.9/4.0 Bachelor\\'s Degree in Mathematics University Name | 2010 - 2014 - Minor in Computer Science\\n- Graduated with Honors Technical Skills Programming Languages : Python, R, SQL ML Frameworks : TensorFlow, PyTorch, scikit-learn Data Processing : Pandas, NumPy, Spark Visualization : Matplotlib, Seaborn, D3.js Cloud Platforms : AWS, GCP Version Control : Git Database Systems : PostgreSQL, MongoDB Certifications AWS Certified Machine Learning Specialist Google Professional Data Engineer Deep Learning Specialization - Coursera Languages English (Native) [Additional Language] (Professional) [Additional Language] (Conversational) Publications & Presentations \"Machine Learning Applications in Weather Risk Management\" - Conference 2023 \"Optimizing Transport Networks Using Predictive Analytics\" - Journal 2022\\n\\n[Source: /Users/richardcollins/portfolio-v1/services/../thoughts/weather-clustering.md] (Similarity: 0.41)\\nIt\\'s like organizing your wardrobe, but instead of \"casual Friday\" and \"beach vacation,\" we have \"incoming cold front\" and \"annoyingly persistent high pressure system.\" Step 4: Visualizing Our Handiwork What\\'s the point of all this if we can\\'t see pretty pictures?'"
      ]
     },
     "execution_count": 9,
     "metadata": {},
     "output_type": "execute_result"
    }
   ],
   "source": [
    "context = rag_service.get_relevant_context(query)\n",
    "context\n"
   ]
  },
  {
   "cell_type": "code",
   "execution_count": null,
   "metadata": {},
   "outputs": [],
   "source": []
  }
 ],
 "metadata": {
  "kernelspec": {
   "display_name": ".venv",
   "language": "python",
   "name": "python3"
  },
  "language_info": {
   "codemirror_mode": {
    "name": "ipython",
    "version": 3
   },
   "file_extension": ".py",
   "mimetype": "text/x-python",
   "name": "python",
   "nbconvert_exporter": "python",
   "pygments_lexer": "ipython3",
   "version": "3.11.4"
  }
 },
 "nbformat": 4,
 "nbformat_minor": 2
}
